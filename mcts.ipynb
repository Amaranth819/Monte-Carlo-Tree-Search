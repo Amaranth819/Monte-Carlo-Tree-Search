{
  "nbformat": 4,
  "nbformat_minor": 0,
  "metadata": {
    "colab": {
      "name": "mcts.ipynb",
      "provenance": [],
      "collapsed_sections": []
    },
    "kernelspec": {
      "name": "python3",
      "display_name": "Python 3"
    }
  },
  "cells": [
    {
      "cell_type": "code",
      "metadata": {
        "id": "4ktWwjr5Q4_f",
        "outputId": "3063ed02-35ee-4b7e-b8d4-0ff7b4293dcb",
        "colab": {
          "base_uri": "https://localhost:8080/"
        }
      },
      "source": [
        "!sudo apt install graphviz"
      ],
      "execution_count": 1,
      "outputs": [
        {
          "output_type": "stream",
          "text": [
            "Reading package lists... Done\n",
            "Building dependency tree       \n",
            "Reading state information... Done\n",
            "graphviz is already the newest version (2.40.1-2).\n",
            "0 upgraded, 0 newly installed, 0 to remove and 11 not upgraded.\n"
          ],
          "name": "stdout"
        }
      ]
    },
    {
      "cell_type": "code",
      "metadata": {
        "id": "xuQff9L-7Oaq"
      },
      "source": [
        "import numpy as np\n",
        "import random\n",
        "import time\n",
        "import copy"
      ],
      "execution_count": 2,
      "outputs": []
    },
    {
      "cell_type": "code",
      "metadata": {
        "id": "15glDINn7PE4"
      },
      "source": [
        "'''\n",
        "    Tic tac toe game\n",
        "'''\n",
        "EMPTY_STR = '-'\n",
        "BLACK_STR = 'B'\n",
        "WHITE_STR = 'W'\n",
        "\n",
        "'''\n",
        "    Tic Tac Toe game state\n",
        "'''\n",
        "class TicTacToeState(object):\n",
        "    def __init__(self, curr_turn = None, board = None):\n",
        "        if board is None:\n",
        "            self.board = np.empty((3, 3), dtype = str)\n",
        "            self.board.fill(EMPTY_STR)\n",
        "        else:\n",
        "            self.board = board\n",
        "\n",
        "        if curr_turn is None:\n",
        "            self.curr_turn = random.choice([BLACK_STR, WHITE_STR])\n",
        "        else:\n",
        "            self.curr_turn = curr_turn\n",
        "\n",
        "        self.win_color, self.terminate = self.game_result()\n",
        "\n",
        "    def get_legal_actions(self):\n",
        "        return [(i, j) for i, j in zip(*np.where(self.board == EMPTY_STR))]\n",
        "\n",
        "    def game_result(self):\n",
        "        for color in [BLACK_STR, WHITE_STR]:\n",
        "            positions = self.board == color\n",
        "            if positions.all(axis = 0).any() or positions.all(axis = 1).any() or np.diagonal(positions).all() or np.diagonal(np.rot90(positions)).all():\n",
        "                return color, True\n",
        "\n",
        "        if len(self.get_legal_actions()) == 0:\n",
        "            return None, True\n",
        "\n",
        "        return None, False\n",
        "\n",
        "    def move(self, pos):\n",
        "        assert self.board[pos] == EMPTY_STR\n",
        "\n",
        "        new_board = np.copy(self.board)\n",
        "        new_board[pos] = self.curr_turn\n",
        "\n",
        "        next_turn = BLACK_STR if self.curr_turn == WHITE_STR else WHITE_STR\n",
        "\n",
        "        return TicTacToeState(next_turn, new_board)\n",
        "\n",
        "    def random_move(self):\n",
        "        return random.choice(self.get_legal_actions())\n",
        "\n",
        "    def show(self):\n",
        "        # print('\\n'.join(''.join(row) for row in self.board))\n",
        "        return '\\n'.join(''.join(row) for row in self.board)"
      ],
      "execution_count": 3,
      "outputs": []
    },
    {
      "cell_type": "code",
      "metadata": {
        "id": "vf5uC3Vi7Rm5"
      },
      "source": [
        "'''\n",
        "    Monte Carlo Tree Search\n",
        "'''\n",
        "class MCTSNode(object):\n",
        "    def __init__(self, state, parent = None):\n",
        "        self.state = state\n",
        "        self.parent = parent\n",
        "        self.untried_actions = self.state.get_legal_actions()\n",
        "        self.children = []\n",
        "        self.N = 0 # Number of simulations\n",
        "        self.Q = {BLACK_STR : 0, WHITE_STR : 0} # Number of wins\n",
        "\n",
        "    def random_child(self):\n",
        "        return random.choice(self.children)\n",
        "\n",
        "    def best_child(self, constant = 2**0.5):\n",
        "        # UCT = Q / child.N + sqrt(ln(parent.N) / child.N)\n",
        "        # Where Q here considers both win and loss.\n",
        "        ucts = [(self.Q[self.state.curr_turn] - self.Q[BLACK_STR if self.state.curr_turn == WHITE_STR else WHITE_STR]) / c.N + constant * (np.log(self.N) / c.N) ** 0.5 for c in self.children]\n",
        "        return self.children[np.argmax(ucts)]\n",
        "\n",
        "    def is_leaf(self):\n",
        "        return self.state.terminate\n",
        "\n",
        "    def is_fully_expanded(self):\n",
        "        return len(self.untried_actions) == 0\n",
        "\n",
        "    def backpropagate(self, win_color):\n",
        "        self.N += 1\n",
        "        if win_color:\n",
        "            self.Q[win_color] += 1\n",
        "        \n",
        "        if self.parent:\n",
        "            # Recursively backpropagate\n",
        "            self.parent.backpropagate(win_color)\n",
        "\n",
        "    def expand(self):\n",
        "        action = self.untried_actions.pop()\n",
        "        next_state = self.state.move(action)\n",
        "        child = MCTSNode(next_state, self)\n",
        "        self.children.append(child)\n",
        "        return child\n",
        "\n",
        "    def rollout(self):\n",
        "        curr_state = self.state\n",
        "        while not curr_state.terminate:\n",
        "            pos = curr_state.random_move()\n",
        "            curr_state = curr_state.move(pos)\n",
        "        return curr_state.win_color\n",
        "\n",
        "    def traverse(self):\n",
        "        if self.is_leaf():\n",
        "            # Reach a leaf node (the game terminates).\n",
        "            return self\n",
        "        else:\n",
        "            if not self.is_fully_expanded():\n",
        "                # If the current node is not fully expanded, then expand it.\n",
        "                return self.expand()\n",
        "            else:\n",
        "                # If the current node is fully expanded, choose the optimal child.\n",
        "                return self.best_child().traverse()"
      ],
      "execution_count": 4,
      "outputs": []
    },
    {
      "cell_type": "code",
      "metadata": {
        "id": "fyTuHfTG7V4I"
      },
      "source": [
        "def draw_graph(root, path):\n",
        "    tree_str = []\n",
        "    total_num = 0\n",
        "    visitset = {}\n",
        "    visitset[total_num] = root\n",
        "\n",
        "    while len(visitset) > 0:\n",
        "        curr_idx = min(visitset.keys())\n",
        "        curr_node = visitset[curr_idx]\n",
        "        visitset.pop(curr_idx)\n",
        "\n",
        "        for child in curr_node.children:\n",
        "            total_num += 1\n",
        "            tree_str.append(\"%d[label=\\\"%s\\\"];\\n%d->%d;\" \n",
        "                            % (total_num, child.state.show() + '\\nN=%d\\nQB=%d\\nQW=%d\\n' % (child.N, child.Q[BLACK_STR], child.Q[WHITE_STR]), curr_idx, total_num))\n",
        "            visitset[total_num] = child\n",
        "    \n",
        "    with open(path, 'w') as f:\n",
        "        f.write(\"digraph mcts{\")\n",
        "        f.writelines(tree_str)\n",
        "        f.write('}')"
      ],
      "execution_count": 5,
      "outputs": []
    },
    {
      "cell_type": "code",
      "metadata": {
        "id": "qs20pR917Xd1"
      },
      "source": [
        "if __name__ == '__main__':\n",
        "    game = TicTacToeState()\n",
        "    root = MCTSNode(game)\n",
        "\n",
        "    for _ in range(10000):\n",
        "        # 1. Traverse from the root until a leaf node is reached.\n",
        "        target = root.traverse()\n",
        "        # 2. From the leaf, start simulation.\n",
        "        simulation_res = target.rollout()\n",
        "        # 3. Backpropagate with the result of the simulation.\n",
        "        target.backpropagate(simulation_res)\n",
        "    \n",
        "    draw_graph(root, 'mcts.dot')"
      ],
      "execution_count": 6,
      "outputs": []
    },
    {
      "cell_type": "code",
      "metadata": {
        "id": "rrAzASmoRL__",
        "outputId": "cd076a7a-89e1-43bf-f4d0-cf3b535b31b5",
        "colab": {
          "base_uri": "https://localhost:8080/"
        }
      },
      "source": [
        "!dot -Kdot -Tpng mcts.dot -o mcts.png"
      ],
      "execution_count": 7,
      "outputs": [
        {
          "output_type": "stream",
          "text": [
            "dot: graph is too large for cairo-renderer bitmaps. Scaling by 0.103534 to fit\n"
          ],
          "name": "stdout"
        }
      ]
    },
    {
      "cell_type": "code",
      "metadata": {
        "id": "jg83pDgpaeoO",
        "outputId": "400b60da-7366-43e7-c876-6587c71bc605",
        "colab": {
          "base_uri": "https://localhost:8080/"
        }
      },
      "source": [
        "move = []\n",
        "curr = root\n",
        "while not curr.is_leaf():\n",
        "    curr = curr.best_child(constant = 0)\n",
        "    move.append(curr.state.show())\n",
        "\n",
        "for m in move:\n",
        "    print(m)\n",
        "    print('-------------')"
      ],
      "execution_count": 8,
      "outputs": [
        {
          "output_type": "stream",
          "text": [
            "---\n",
            "---\n",
            "-W-\n",
            "-------------\n",
            "---\n",
            "---\n",
            "-WB\n",
            "-------------\n",
            "---\n",
            "W--\n",
            "-WB\n",
            "-------------\n",
            "---\n",
            "W--\n",
            "BWB\n",
            "-------------\n",
            "-W-\n",
            "W--\n",
            "BWB\n",
            "-------------\n",
            "-W-\n",
            "W-B\n",
            "BWB\n",
            "-------------\n",
            "WW-\n",
            "W-B\n",
            "BWB\n",
            "-------------\n",
            "WW-\n",
            "WBB\n",
            "BWB\n",
            "-------------\n",
            "WWW\n",
            "WBB\n",
            "BWB\n",
            "-------------\n"
          ],
          "name": "stdout"
        }
      ]
    }
  ]
}